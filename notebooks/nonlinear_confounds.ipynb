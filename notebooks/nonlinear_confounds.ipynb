{
 "cells": [
  {
   "cell_type": "code",
   "execution_count": 2,
   "metadata": {},
   "outputs": [
    {
     "name": "stdout",
     "output_type": "stream",
     "text": [
      "The autoreload extension is already loaded. To reload it, use:\n",
      "  %reload_ext autoreload\n"
     ]
    }
   ],
   "source": [
    "%load_ext autoreload\n",
    "%autoreload 2"
   ]
  },
  {
   "cell_type": "code",
   "execution_count": 26,
   "metadata": {},
   "outputs": [],
   "source": [
    "import numpy as np\n",
    "import pandas as pd\n",
    "import matplotlib.pyplot as plt\n",
    "import statsmodels.api as sm\n",
    "\n",
    "import pymc as pm\n",
    "import pymc_experimental as pmx\n",
    "import pytensor.tensor as pt\n",
    "import arviz as az"
   ]
  },
  {
   "cell_type": "markdown",
   "metadata": {},
   "source": [
    "# Data Generation"
   ]
  },
  {
   "cell_type": "code",
   "execution_count": 20,
   "metadata": {},
   "outputs": [
    {
     "data": {
      "text/plain": [
       "[<matplotlib.lines.Line2D at 0x7cc49e6dc730>]"
      ]
     },
     "execution_count": 20,
     "metadata": {},
     "output_type": "execute_result"
    },
    {
     "data": {
      "image/png": "[encoded data removed]",
      "text/plain": [
       "<Figure size 640x480 with 1 Axes>"
      ]
     },
     "metadata": {},
     "output_type": "display_data"
    }
   ],
   "source": [
    "N_sample = 100\n",
    "confounder = np.random.randn(N_sample) \n",
    "treatment = np.random.randn(N_sample) + 1.5 * np.abs(confounder) - 0.5 * confounder\n",
    "mediator = np.random.randn(N_sample) - 0.5 * treatment**2\n",
    "outcome = .3*np.random.randn(N_sample) + 1 * treatment + 0.5 * confounder + 0.2 * mediator + 0.1\n",
    "data = pd.DataFrame({'confounder': confounder, 'treatment': treatment, 'outcome': outcome, 'confounder_sq': confounder**2, 'mediator': mediator, 'treatment_sq': treatment**2})\n",
    "plt.plot(confounder, outcome, 'o')"
   ]
  },
  {
   "cell_type": "code",
   "execution_count": 21,
   "metadata": {},
   "outputs": [
    {
     "data": {
      "text/html": [
       "<table class=\"simpletable\">\n",
       "<caption>OLS Regression Results</caption>\n",
       "<tr>\n",
       "  <th>Dep. Variable:</th>         <td>outcome</td>     <th>  R-squared:         </th> <td>   0.939</td>\n",
       "</tr>\n",
       "<tr>\n",
       "  <th>Model:</th>                   <td>OLS</td>       <th>  Adj. R-squared:    </th> <td>   0.937</td>\n",
       "</tr>\n",
       "<tr>\n",
       "  <th>Method:</th>             <td>Least Squares</td>  <th>  F-statistic:       </th> <td>   489.7</td>\n",
       "</tr>\n",
       "<tr>\n",
       "  <th>Date:</th>             <td>Sun, 24 Mar 2024</td> <th>  Prob (F-statistic):</th> <td>4.94e-58</td>\n",
       "</tr>\n",
       "<tr>\n",
       "  <th>Time:</th>                 <td>17:09:04</td>     <th>  Log-Likelihood:    </th> <td> -24.900</td>\n",
       "</tr>\n",
       "<tr>\n",
       "  <th>No. Observations:</th>      <td>   100</td>      <th>  AIC:               </th> <td>   57.80</td>\n",
       "</tr>\n",
       "<tr>\n",
       "  <th>Df Residuals:</th>          <td>    96</td>      <th>  BIC:               </th> <td>   68.22</td>\n",
       "</tr>\n",
       "<tr>\n",
       "  <th>Df Model:</th>              <td>     3</td>      <th>                     </th>     <td> </td>   \n",
       "</tr>\n",
       "<tr>\n",
       "  <th>Covariance Type:</th>      <td>nonrobust</td>    <th>                     </th>     <td> </td>   \n",
       "</tr>\n",
       "</table>\n",
       "<table class=\"simpletable\">\n",
       "<tr>\n",
       "       <td></td>         <th>coef</th>     <th>std err</th>      <th>t</th>      <th>P>|t|</th>  <th>[0.025</th>    <th>0.975]</th>  \n",
       "</tr>\n",
       "<tr>\n",
       "  <th>const</th>      <td>    0.0760</td> <td>    0.042</td> <td>    1.829</td> <td> 0.070</td> <td>   -0.006</td> <td>    0.159</td>\n",
       "</tr>\n",
       "<tr>\n",
       "  <th>treatment</th>  <td>    1.0489</td> <td>    0.031</td> <td>   33.493</td> <td> 0.000</td> <td>    0.987</td> <td>    1.111</td>\n",
       "</tr>\n",
       "<tr>\n",
       "  <th>confounder</th> <td>    0.5145</td> <td>    0.034</td> <td>   15.186</td> <td> 0.000</td> <td>    0.447</td> <td>    0.582</td>\n",
       "</tr>\n",
       "<tr>\n",
       "  <th>mediator</th>   <td>    0.2195</td> <td>    0.017</td> <td>   13.296</td> <td> 0.000</td> <td>    0.187</td> <td>    0.252</td>\n",
       "</tr>\n",
       "</table>\n",
       "<table class=\"simpletable\">\n",
       "<tr>\n",
       "  <th>Omnibus:</th>       <td> 0.554</td> <th>  Durbin-Watson:     </th> <td>   2.024</td>\n",
       "</tr>\n",
       "<tr>\n",
       "  <th>Prob(Omnibus):</th> <td> 0.758</td> <th>  Jarque-Bera (JB):  </th> <td>   0.700</td>\n",
       "</tr>\n",
       "<tr>\n",
       "  <th>Skew:</th>          <td>-0.128</td> <th>  Prob(JB):          </th> <td>   0.705</td>\n",
       "</tr>\n",
       "<tr>\n",
       "  <th>Kurtosis:</th>      <td> 2.680</td> <th>  Cond. No.          </th> <td>    5.24</td>\n",
       "</tr>\n",
       "</table><br/><br/>Notes:<br/>[1] Standard Errors assume that the covariance matrix of the errors is correctly specified."
      ],
      "text/latex": [
       "\\begin{center}\n",
       "\\begin{tabular}{lclc}\n",
       "\\toprule\n",
       "\\textbf{Dep. Variable:}    &     outcome      & \\textbf{  R-squared:         } &     0.939   \\\\\n",
       "\\textbf{Model:}            &       OLS        & \\textbf{  Adj. R-squared:    } &     0.937   \\\\\n",
       "\\textbf{Method:}           &  Least Squares   & \\textbf{  F-statistic:       } &     489.7   \\\\\n",
       "\\textbf{Date:}             & Sun, 24 Mar 2024 & \\textbf{  Prob (F-statistic):} &  4.94e-58   \\\\\n",
       "\\textbf{Time:}             &     17:09:04     & \\textbf{  Log-Likelihood:    } &   -24.900   \\\\\n",
       "\\textbf{No. Observations:} &         100      & \\textbf{  AIC:               } &     57.80   \\\\\n",
       "\\textbf{Df Residuals:}     &          96      & \\textbf{  BIC:               } &     68.22   \\\\\n",
       "\\textbf{Df Model:}         &           3      & \\textbf{                     } &             \\\\\n",
       "\\textbf{Covariance Type:}  &    nonrobust     & \\textbf{                     } &             \\\\\n",
       "\\bottomrule\n",
       "\\end{tabular}\n",
       "\\begin{tabular}{lcccccc}\n",
       "                    & \\textbf{coef} & \\textbf{std err} & \\textbf{t} & \\textbf{P$> |$t$|$} & \\textbf{[0.025} & \\textbf{0.975]}  \\\\\n",
       "\\midrule\n",
       "\\textbf{const}      &       0.0760  &        0.042     &     1.829  &         0.070        &       -0.006    &        0.159     \\\\\n",
       "\\textbf{treatment}  &       1.0489  &        0.031     &    33.493  &         0.000        &        0.987    &        1.111     \\\\\n",
       "\\textbf{confounder} &       0.5145  &        0.034     &    15.186  &         0.000        &        0.447    &        0.582     \\\\\n",
       "\\textbf{mediator}   &       0.2195  &        0.017     &    13.296  &         0.000        &        0.187    &        0.252     \\\\\n",
       "\\bottomrule\n",
       "\\end{tabular}\n",
       "\\begin{tabular}{lclc}\n",
       "\\textbf{Omnibus:}       &  0.554 & \\textbf{  Durbin-Watson:     } &    2.024  \\\\\n",
       "\\textbf{Prob(Omnibus):} &  0.758 & \\textbf{  Jarque-Bera (JB):  } &    0.700  \\\\\n",
       "\\textbf{Skew:}          & -0.128 & \\textbf{  Prob(JB):          } &    0.705  \\\\\n",
       "\\textbf{Kurtosis:}      &  2.680 & \\textbf{  Cond. No.          } &     5.24  \\\\\n",
       "\\bottomrule\n",
       "\\end{tabular}\n",
       "%\\caption{OLS Regression Results}\n",
       "\\end{center}\n",
       "\n",
       "Notes: \\newline\n",
       " [1] Standard Errors assume that the covariance matrix of the errors is correctly specified."
      ],
      "text/plain": [
       "<class 'statsmodels.iolib.summary.Summary'>\n",
       "\"\"\"\n",
       "                            OLS Regression Results                            \n",
       "==============================================================================\n",
       "Dep. Variable:                outcome   R-squared:                       0.939\n",
       "Model:                            OLS   Adj. R-squared:                  0.937\n",
       "Method:                 Least Squares   F-statistic:                     489.7\n",
       "Date:                Sun, 24 Mar 2024   Prob (F-statistic):           4.94e-58\n",
       "Time:                        17:09:04   Log-Likelihood:                -24.900\n",
       "No. Observations:                 100   AIC:                             57.80\n",
       "Df Residuals:                      96   BIC:                             68.22\n",
       "Df Model:                           3                                         \n",
       "Covariance Type:            nonrobust                                         \n",
       "==============================================================================\n",
       "                 coef    std err          t      P>|t|      [0.025      0.975]\n",
       "------------------------------------------------------------------------------\n",
       "const          0.0760      0.042      1.829      0.070      -0.006       0.159\n",
       "treatment      1.0489      0.031     33.493      0.000       0.987       1.111\n",
       "confounder     0.5145      0.034     15.186      0.000       0.447       0.582\n",
       "mediator       0.2195      0.017     13.296      0.000       0.187       0.252\n",
       "==============================================================================\n",
       "Omnibus:                        0.554   Durbin-Watson:                   2.024\n",
       "Prob(Omnibus):                  0.758   Jarque-Bera (JB):                0.700\n",
       "Skew:                          -0.128   Prob(JB):                        0.705\n",
       "Kurtosis:                       2.680   Cond. No.                         5.24\n",
       "==============================================================================\n",
       "\n",
       "Notes:\n",
       "[1] Standard Errors assume that the covariance matrix of the errors is correctly specified.\n",
       "\"\"\""
      ]
     },
     "execution_count": 21,
     "metadata": {},
     "output_type": "execute_result"
    }
   ],
   "source": [
    "primary_model = sm.OLS(data['outcome'], sm.add_constant(data[['treatment', 'confounder', 'mediator']])).fit()\n",
    "primary_model.summary()"
   ]
  },
  {
   "cell_type": "code",
   "execution_count": 22,
   "metadata": {},
   "outputs": [
    {
     "data": {
      "text/html": [
       "<table class=\"simpletable\">\n",
       "<caption>OLS Regression Results</caption>\n",
       "<tr>\n",
       "  <th>Dep. Variable:</th>        <td>mediator</td>     <th>  R-squared (uncentered):</th>      <td>   0.914</td>\n",
       "</tr>\n",
       "<tr>\n",
       "  <th>Model:</th>                   <td>OLS</td>       <th>  Adj. R-squared (uncentered):</th> <td>   0.913</td>\n",
       "</tr>\n",
       "<tr>\n",
       "  <th>Method:</th>             <td>Least Squares</td>  <th>  F-statistic:       </th>          <td>   1053.</td>\n",
       "</tr>\n",
       "<tr>\n",
       "  <th>Date:</th>             <td>Sun, 24 Mar 2024</td> <th>  Prob (F-statistic):</th>          <td>1.48e-54</td>\n",
       "</tr>\n",
       "<tr>\n",
       "  <th>Time:</th>                 <td>17:09:07</td>     <th>  Log-Likelihood:    </th>          <td> -137.56</td>\n",
       "</tr>\n",
       "<tr>\n",
       "  <th>No. Observations:</th>      <td>   100</td>      <th>  AIC:               </th>          <td>   277.1</td>\n",
       "</tr>\n",
       "<tr>\n",
       "  <th>Df Residuals:</th>          <td>    99</td>      <th>  BIC:               </th>          <td>   279.7</td>\n",
       "</tr>\n",
       "<tr>\n",
       "  <th>Df Model:</th>              <td>     1</td>      <th>                     </th>              <td> </td>   \n",
       "</tr>\n",
       "<tr>\n",
       "  <th>Covariance Type:</th>      <td>nonrobust</td>    <th>                     </th>              <td> </td>   \n",
       "</tr>\n",
       "</table>\n",
       "<table class=\"simpletable\">\n",
       "<tr>\n",
       "        <td></td>          <th>coef</th>     <th>std err</th>      <th>t</th>      <th>P>|t|</th>  <th>[0.025</th>    <th>0.975]</th>  \n",
       "</tr>\n",
       "<tr>\n",
       "  <th>treatment_sq</th> <td>   -0.5278</td> <td>    0.016</td> <td>  -32.445</td> <td> 0.000</td> <td>   -0.560</td> <td>   -0.495</td>\n",
       "</tr>\n",
       "</table>\n",
       "<table class=\"simpletable\">\n",
       "<tr>\n",
       "  <th>Omnibus:</th>       <td> 0.871</td> <th>  Durbin-Watson:     </th> <td>   2.003</td>\n",
       "</tr>\n",
       "<tr>\n",
       "  <th>Prob(Omnibus):</th> <td> 0.647</td> <th>  Jarque-Bera (JB):  </th> <td>   0.408</td>\n",
       "</tr>\n",
       "<tr>\n",
       "  <th>Skew:</th>          <td> 0.029</td> <th>  Prob(JB):          </th> <td>   0.816</td>\n",
       "</tr>\n",
       "<tr>\n",
       "  <th>Kurtosis:</th>      <td> 3.307</td> <th>  Cond. No.          </th> <td>    1.00</td>\n",
       "</tr>\n",
       "</table><br/><br/>Notes:<br/>[1] R² is computed without centering (uncentered) since the model does not contain a constant.<br/>[2] Standard Errors assume that the covariance matrix of the errors is correctly specified."
      ],
      "text/latex": [
       "\\begin{center}\n",
       "\\begin{tabular}{lclc}\n",
       "\\toprule\n",
       "\\textbf{Dep. Variable:}    &     mediator     & \\textbf{  R-squared (uncentered):}      &     0.914   \\\\\n",
       "\\textbf{Model:}            &       OLS        & \\textbf{  Adj. R-squared (uncentered):} &     0.913   \\\\\n",
       "\\textbf{Method:}           &  Least Squares   & \\textbf{  F-statistic:       }          &     1053.   \\\\\n",
       "\\textbf{Date:}             & Sun, 24 Mar 2024 & \\textbf{  Prob (F-statistic):}          &  1.48e-54   \\\\\n",
       "\\textbf{Time:}             &     17:09:07     & \\textbf{  Log-Likelihood:    }          &   -137.56   \\\\\n",
       "\\textbf{No. Observations:} &         100      & \\textbf{  AIC:               }          &     277.1   \\\\\n",
       "\\textbf{Df Residuals:}     &          99      & \\textbf{  BIC:               }          &     279.7   \\\\\n",
       "\\textbf{Df Model:}         &           1      & \\textbf{                     }          &             \\\\\n",
       "\\textbf{Covariance Type:}  &    nonrobust     & \\textbf{                     }          &             \\\\\n",
       "\\bottomrule\n",
       "\\end{tabular}\n",
       "\\begin{tabular}{lcccccc}\n",
       "                       & \\textbf{coef} & \\textbf{std err} & \\textbf{t} & \\textbf{P$> |$t$|$} & \\textbf{[0.025} & \\textbf{0.975]}  \\\\\n",
       "\\midrule\n",
       "\\textbf{treatment\\_sq} &      -0.5278  &        0.016     &   -32.445  &         0.000        &       -0.560    &       -0.495     \\\\\n",
       "\\bottomrule\n",
       "\\end{tabular}\n",
       "\\begin{tabular}{lclc}\n",
       "\\textbf{Omnibus:}       &  0.871 & \\textbf{  Durbin-Watson:     } &    2.003  \\\\\n",
       "\\textbf{Prob(Omnibus):} &  0.647 & \\textbf{  Jarque-Bera (JB):  } &    0.408  \\\\\n",
       "\\textbf{Skew:}          &  0.029 & \\textbf{  Prob(JB):          } &    0.816  \\\\\n",
       "\\textbf{Kurtosis:}      &  3.307 & \\textbf{  Cond. No.          } &     1.00  \\\\\n",
       "\\bottomrule\n",
       "\\end{tabular}\n",
       "%\\caption{OLS Regression Results}\n",
       "\\end{center}\n",
       "\n",
       "Notes: \\newline\n",
       " [1] R² is computed without centering (uncentered) since the model does not contain a constant. \\newline\n",
       " [2] Standard Errors assume that the covariance matrix of the errors is correctly specified."
      ],
      "text/plain": [
       "<class 'statsmodels.iolib.summary.Summary'>\n",
       "\"\"\"\n",
       "                                 OLS Regression Results                                \n",
       "=======================================================================================\n",
       "Dep. Variable:               mediator   R-squared (uncentered):                   0.914\n",
       "Model:                            OLS   Adj. R-squared (uncentered):              0.913\n",
       "Method:                 Least Squares   F-statistic:                              1053.\n",
       "Date:                Sun, 24 Mar 2024   Prob (F-statistic):                    1.48e-54\n",
       "Time:                        17:09:07   Log-Likelihood:                         -137.56\n",
       "No. Observations:                 100   AIC:                                      277.1\n",
       "Df Residuals:                      99   BIC:                                      279.7\n",
       "Df Model:                           1                                                  \n",
       "Covariance Type:            nonrobust                                                  \n",
       "================================================================================\n",
       "                   coef    std err          t      P>|t|      [0.025      0.975]\n",
       "--------------------------------------------------------------------------------\n",
       "treatment_sq    -0.5278      0.016    -32.445      0.000      -0.560      -0.495\n",
       "==============================================================================\n",
       "Omnibus:                        0.871   Durbin-Watson:                   2.003\n",
       "Prob(Omnibus):                  0.647   Jarque-Bera (JB):                0.408\n",
       "Skew:                           0.029   Prob(JB):                        0.816\n",
       "Kurtosis:                       3.307   Cond. No.                         1.00\n",
       "==============================================================================\n",
       "\n",
       "Notes:\n",
       "[1] R² is computed without centering (uncentered) since the model does not contain a constant.\n",
       "[2] Standard Errors assume that the covariance matrix of the errors is correctly specified.\n",
       "\"\"\""
      ]
     },
     "execution_count": 22,
     "metadata": {},
     "output_type": "execute_result"
    }
   ],
   "source": [
    "mediator_model = sm.OLS(data['mediator'], (data[['treatment_sq']])).fit()\n",
    "mediator_model.summary()"
   ]
  },
  {
   "cell_type": "code",
   "execution_count": 23,
   "metadata": {},
   "outputs": [
    {
     "data": {
      "text/plain": [
       "0.31678716813105917"
      ]
     },
     "execution_count": 23,
     "metadata": {},
     "output_type": "execute_result"
    }
   ],
   "source": [
    "np.sqrt(primary_model.scale)"
   ]
  },
  {
   "cell_type": "code",
   "execution_count": 24,
   "metadata": {},
   "outputs": [],
   "source": [
    "def mediator_f(treatment):\n",
    "  return mediator_model.params['treatment_sq'] * treatment**2 + np.random.randn(len(treatment))\n",
    "\n",
    "def confounder_f(len):\n",
    "  return np.random.randn(len)\n",
    "\n",
    "def outcome_f(treatment):\n",
    "  return primary_model.params['treatment'] * treatment + primary_model.params['confounder'] * confounder_f(len(treatment)) + primary_model.params['mediator'] * mediator_f(treatment) + primary_model.params['const'] + np.sqrt(primary_model.scale)*np.random.randn(len(treatment)) "
   ]
  },
  {
   "cell_type": "code",
   "execution_count": 25,
   "metadata": {},
   "outputs": [
    {
     "data": {
      "text/plain": [
       "[<matplotlib.lines.Line2D at 0x7cc49e5566e0>]"
      ]
     },
     "execution_count": 25,
     "metadata": {},
     "output_type": "execute_result"
    },
    {
     "data": {
      "image/png": "[encoded data removed]",
      "text/plain": [
       "<Figure size 640x480 with 1 Axes>"
      ]
     },
     "metadata": {},
     "output_type": "display_data"
    }
   ],
   "source": [
    "test_treatment = np.linspace(-2, 10, 100)\n",
    "samples = np.stack([outcome_f(test_treatment) for _ in range(10_000)])\n",
    "plt.plot(test_treatment, samples.mean(axis=0))\n",
    "plt.fill_between(test_treatment, np.percentile(samples, 2.5, axis=0), np.percentile(samples, 97.5, axis=0), alpha=0.5)\n",
    "plt.plot(test_treatment, -0.2*0.5*test_treatment**2+1*test_treatment+.1)"
   ]
  },
  {
   "cell_type": "code",
   "execution_count": null,
   "metadata": {},
   "outputs": [],
   "source": []
  }
 ],
 "metadata": {
  "kernelspec": {
   "display_name": "json2dag-JeLZi7NZ-py3.10",
   "language": "python",
   "name": "python3"
  },
  "language_info": {
   "codemirror_mode": {
    "name": "ipython",
    "version": 3
   },
   "file_extension": ".py",
   "mimetype": "text/x-python",
   "name": "python",
   "nbconvert_exporter": "python",
   "pygments_lexer": "ipython3",
   "version": "3.10.12"
  }
 },
 "nbformat": 4,
 "nbformat_minor": 2
}
